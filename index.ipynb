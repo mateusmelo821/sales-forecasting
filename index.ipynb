{
 "cells": [
  {
   "cell_type": "markdown",
   "id": "7c8b6533",
   "metadata": {},
   "source": [
    "# Sales Forecasting\n",
    "\n",
    "In most, not to say all, kinds of business, sales forecasting is an essential operation, since it gives a reliable estimative of the future performance of the company, allowing a better decision making process. In this project, we are going to use a [kaggle dataset](https://www.kaggle.com/datasets/olistbr/brazilian-ecommerce) with information of 100k orders from 2016 to 2018 made at multiple marketplaces in Brazil. We are going through the main steps in the sales forecasting process. This report  divided in 4 steps: \n",
    "\n",
    "* Setting up the data\n",
    "* Exploratory data analysis\n",
    "* Creating a baseline model\n",
    "* Building the final model"
   ]
  },
  {
   "cell_type": "markdown",
   "id": "9d1132cb",
   "metadata": {},
   "source": [
    "## Setting up the data\n",
    "\n",
    "Let us start by importing the main packages to be used and by loading the dataset with the orders."
   ]
  },
  {
   "cell_type": "code",
   "execution_count": 13,
   "id": "110646c8",
   "metadata": {},
   "outputs": [
    {
     "data": {
      "text/html": [
       "<div>\n",
       "<style scoped>\n",
       "    .dataframe tbody tr th:only-of-type {\n",
       "        vertical-align: middle;\n",
       "    }\n",
       "\n",
       "    .dataframe tbody tr th {\n",
       "        vertical-align: top;\n",
       "    }\n",
       "\n",
       "    .dataframe thead th {\n",
       "        text-align: right;\n",
       "    }\n",
       "</style>\n",
       "<table border=\"1\" class=\"dataframe\">\n",
       "  <thead>\n",
       "    <tr style=\"text-align: right;\">\n",
       "      <th></th>\n",
       "      <th>order_id</th>\n",
       "      <th>customer_id</th>\n",
       "      <th>order_status</th>\n",
       "      <th>order_purchase_timestamp</th>\n",
       "      <th>order_approved_at</th>\n",
       "      <th>order_delivered_carrier_date</th>\n",
       "      <th>order_delivered_customer_date</th>\n",
       "      <th>order_estimated_delivery_date</th>\n",
       "    </tr>\n",
       "  </thead>\n",
       "  <tbody>\n",
       "    <tr>\n",
       "      <th>99436</th>\n",
       "      <td>9c5dedf39a927c1b2549525ed64a053c</td>\n",
       "      <td>39bd1228ee8140590ac3aca26f2dfe00</td>\n",
       "      <td>delivered</td>\n",
       "      <td>2017-03-09 09:54:05</td>\n",
       "      <td>2017-03-09 09:54:05</td>\n",
       "      <td>2017-03-10 11:18:03</td>\n",
       "      <td>2017-03-17 15:08:01</td>\n",
       "      <td>2017-03-28 00:00:00</td>\n",
       "    </tr>\n",
       "    <tr>\n",
       "      <th>99437</th>\n",
       "      <td>63943bddc261676b46f01ca7ac2f7bd8</td>\n",
       "      <td>1fca14ff2861355f6e5f14306ff977a7</td>\n",
       "      <td>delivered</td>\n",
       "      <td>2018-02-06 12:58:58</td>\n",
       "      <td>2018-02-06 13:10:37</td>\n",
       "      <td>2018-02-07 23:22:42</td>\n",
       "      <td>2018-02-28 17:37:56</td>\n",
       "      <td>2018-03-02 00:00:00</td>\n",
       "    </tr>\n",
       "    <tr>\n",
       "      <th>99438</th>\n",
       "      <td>83c1379a015df1e13d02aae0204711ab</td>\n",
       "      <td>1aa71eb042121263aafbe80c1b562c9c</td>\n",
       "      <td>delivered</td>\n",
       "      <td>2017-08-27 14:46:43</td>\n",
       "      <td>2017-08-27 15:04:16</td>\n",
       "      <td>2017-08-28 20:52:26</td>\n",
       "      <td>2017-09-21 11:24:17</td>\n",
       "      <td>2017-09-27 00:00:00</td>\n",
       "    </tr>\n",
       "    <tr>\n",
       "      <th>99439</th>\n",
       "      <td>11c177c8e97725db2631073c19f07b62</td>\n",
       "      <td>b331b74b18dc79bcdf6532d51e1637c1</td>\n",
       "      <td>delivered</td>\n",
       "      <td>2018-01-08 21:28:27</td>\n",
       "      <td>2018-01-08 21:36:21</td>\n",
       "      <td>2018-01-12 15:35:03</td>\n",
       "      <td>2018-01-25 23:32:54</td>\n",
       "      <td>2018-02-15 00:00:00</td>\n",
       "    </tr>\n",
       "    <tr>\n",
       "      <th>99440</th>\n",
       "      <td>66dea50a8b16d9b4dee7af250b4be1a5</td>\n",
       "      <td>edb027a75a1449115f6b43211ae02a24</td>\n",
       "      <td>delivered</td>\n",
       "      <td>2018-03-08 20:57:30</td>\n",
       "      <td>2018-03-09 11:20:28</td>\n",
       "      <td>2018-03-09 22:11:59</td>\n",
       "      <td>2018-03-16 13:08:30</td>\n",
       "      <td>2018-04-03 00:00:00</td>\n",
       "    </tr>\n",
       "  </tbody>\n",
       "</table>\n",
       "</div>"
      ],
      "text/plain": [
       "                               order_id                       customer_id  \\\n",
       "99436  9c5dedf39a927c1b2549525ed64a053c  39bd1228ee8140590ac3aca26f2dfe00   \n",
       "99437  63943bddc261676b46f01ca7ac2f7bd8  1fca14ff2861355f6e5f14306ff977a7   \n",
       "99438  83c1379a015df1e13d02aae0204711ab  1aa71eb042121263aafbe80c1b562c9c   \n",
       "99439  11c177c8e97725db2631073c19f07b62  b331b74b18dc79bcdf6532d51e1637c1   \n",
       "99440  66dea50a8b16d9b4dee7af250b4be1a5  edb027a75a1449115f6b43211ae02a24   \n",
       "\n",
       "      order_status order_purchase_timestamp    order_approved_at  \\\n",
       "99436    delivered      2017-03-09 09:54:05  2017-03-09 09:54:05   \n",
       "99437    delivered      2018-02-06 12:58:58  2018-02-06 13:10:37   \n",
       "99438    delivered      2017-08-27 14:46:43  2017-08-27 15:04:16   \n",
       "99439    delivered      2018-01-08 21:28:27  2018-01-08 21:36:21   \n",
       "99440    delivered      2018-03-08 20:57:30  2018-03-09 11:20:28   \n",
       "\n",
       "      order_delivered_carrier_date order_delivered_customer_date  \\\n",
       "99436          2017-03-10 11:18:03           2017-03-17 15:08:01   \n",
       "99437          2018-02-07 23:22:42           2018-02-28 17:37:56   \n",
       "99438          2017-08-28 20:52:26           2017-09-21 11:24:17   \n",
       "99439          2018-01-12 15:35:03           2018-01-25 23:32:54   \n",
       "99440          2018-03-09 22:11:59           2018-03-16 13:08:30   \n",
       "\n",
       "      order_estimated_delivery_date  \n",
       "99436           2017-03-28 00:00:00  \n",
       "99437           2018-03-02 00:00:00  \n",
       "99438           2017-09-27 00:00:00  \n",
       "99439           2018-02-15 00:00:00  \n",
       "99440           2018-04-03 00:00:00  "
      ]
     },
     "execution_count": 13,
     "metadata": {},
     "output_type": "execute_result"
    }
   ],
   "source": [
    "import os\n",
    "import pandas as pd\n",
    "import numpy as np\n",
    "import matplotlib.pyplot as plt\n",
    "import seaborn as sns\n",
    "\n",
    "path = 'data/'\n",
    "\n",
    "df_orders = pd.read_csv(path+'olist_orders_dataset.csv')\n",
    "df_orders.tail()"
   ]
  },
  {
   "cell_type": "markdown",
   "id": "afd91dc1",
   "metadata": {},
   "source": [
    "We have 99440 observations. Now we are going to load the dataset with the orders itens information."
   ]
  },
  {
   "cell_type": "code",
   "execution_count": 14,
   "id": "0b023e53",
   "metadata": {},
   "outputs": [
    {
     "data": {
      "text/html": [
       "<div>\n",
       "<style scoped>\n",
       "    .dataframe tbody tr th:only-of-type {\n",
       "        vertical-align: middle;\n",
       "    }\n",
       "\n",
       "    .dataframe tbody tr th {\n",
       "        vertical-align: top;\n",
       "    }\n",
       "\n",
       "    .dataframe thead th {\n",
       "        text-align: right;\n",
       "    }\n",
       "</style>\n",
       "<table border=\"1\" class=\"dataframe\">\n",
       "  <thead>\n",
       "    <tr style=\"text-align: right;\">\n",
       "      <th></th>\n",
       "      <th>order_id</th>\n",
       "      <th>order_item_id</th>\n",
       "      <th>product_id</th>\n",
       "      <th>seller_id</th>\n",
       "      <th>shipping_limit_date</th>\n",
       "      <th>price</th>\n",
       "      <th>freight_value</th>\n",
       "    </tr>\n",
       "  </thead>\n",
       "  <tbody>\n",
       "    <tr>\n",
       "      <th>112645</th>\n",
       "      <td>fffc94f6ce00a00581880bf54a75a037</td>\n",
       "      <td>1</td>\n",
       "      <td>4aa6014eceb682077f9dc4bffebc05b0</td>\n",
       "      <td>b8bc237ba3788b23da09c0f1f3a3288c</td>\n",
       "      <td>2018-05-02 04:11:01</td>\n",
       "      <td>299.99</td>\n",
       "      <td>43.41</td>\n",
       "    </tr>\n",
       "    <tr>\n",
       "      <th>112646</th>\n",
       "      <td>fffcd46ef2263f404302a634eb57f7eb</td>\n",
       "      <td>1</td>\n",
       "      <td>32e07fd915822b0765e448c4dd74c828</td>\n",
       "      <td>f3c38ab652836d21de61fb8314b69182</td>\n",
       "      <td>2018-07-20 04:31:48</td>\n",
       "      <td>350.00</td>\n",
       "      <td>36.53</td>\n",
       "    </tr>\n",
       "    <tr>\n",
       "      <th>112647</th>\n",
       "      <td>fffce4705a9662cd70adb13d4a31832d</td>\n",
       "      <td>1</td>\n",
       "      <td>72a30483855e2eafc67aee5dc2560482</td>\n",
       "      <td>c3cfdc648177fdbbbb35635a37472c53</td>\n",
       "      <td>2017-10-30 17:14:25</td>\n",
       "      <td>99.90</td>\n",
       "      <td>16.95</td>\n",
       "    </tr>\n",
       "    <tr>\n",
       "      <th>112648</th>\n",
       "      <td>fffe18544ffabc95dfada21779c9644f</td>\n",
       "      <td>1</td>\n",
       "      <td>9c422a519119dcad7575db5af1ba540e</td>\n",
       "      <td>2b3e4a2a3ea8e01938cabda2a3e5cc79</td>\n",
       "      <td>2017-08-21 00:04:32</td>\n",
       "      <td>55.99</td>\n",
       "      <td>8.72</td>\n",
       "    </tr>\n",
       "    <tr>\n",
       "      <th>112649</th>\n",
       "      <td>fffe41c64501cc87c801fd61db3f6244</td>\n",
       "      <td>1</td>\n",
       "      <td>350688d9dc1e75ff97be326363655e01</td>\n",
       "      <td>f7ccf836d21b2fb1de37564105216cc1</td>\n",
       "      <td>2018-06-12 17:10:13</td>\n",
       "      <td>43.00</td>\n",
       "      <td>12.79</td>\n",
       "    </tr>\n",
       "  </tbody>\n",
       "</table>\n",
       "</div>"
      ],
      "text/plain": [
       "                                order_id  order_item_id  \\\n",
       "112645  fffc94f6ce00a00581880bf54a75a037              1   \n",
       "112646  fffcd46ef2263f404302a634eb57f7eb              1   \n",
       "112647  fffce4705a9662cd70adb13d4a31832d              1   \n",
       "112648  fffe18544ffabc95dfada21779c9644f              1   \n",
       "112649  fffe41c64501cc87c801fd61db3f6244              1   \n",
       "\n",
       "                              product_id                         seller_id  \\\n",
       "112645  4aa6014eceb682077f9dc4bffebc05b0  b8bc237ba3788b23da09c0f1f3a3288c   \n",
       "112646  32e07fd915822b0765e448c4dd74c828  f3c38ab652836d21de61fb8314b69182   \n",
       "112647  72a30483855e2eafc67aee5dc2560482  c3cfdc648177fdbbbb35635a37472c53   \n",
       "112648  9c422a519119dcad7575db5af1ba540e  2b3e4a2a3ea8e01938cabda2a3e5cc79   \n",
       "112649  350688d9dc1e75ff97be326363655e01  f7ccf836d21b2fb1de37564105216cc1   \n",
       "\n",
       "        shipping_limit_date   price  freight_value  \n",
       "112645  2018-05-02 04:11:01  299.99          43.41  \n",
       "112646  2018-07-20 04:31:48  350.00          36.53  \n",
       "112647  2017-10-30 17:14:25   99.90          16.95  \n",
       "112648  2017-08-21 00:04:32   55.99           8.72  \n",
       "112649  2018-06-12 17:10:13   43.00          12.79  "
      ]
     },
     "execution_count": 14,
     "metadata": {},
     "output_type": "execute_result"
    }
   ],
   "source": [
    "df_itens = pd.read_csv(path+'olist_order_items_dataset.csv')\n",
    "df_itens.tail()"
   ]
  },
  {
   "cell_type": "markdown",
   "id": "94aa9e16",
   "metadata": {},
   "source": [
    "We have 112650 observations. This difference in quantity happens due to the fact that a single order can have multiple itens. Now we are going to load the dataset products information. Although it is not relevant in the forecasting per say, it is useful to report the results."
   ]
  },
  {
   "cell_type": "code",
   "execution_count": 15,
   "id": "1349b4c2",
   "metadata": {},
   "outputs": [
    {
     "data": {
      "text/html": [
       "<div>\n",
       "<style scoped>\n",
       "    .dataframe tbody tr th:only-of-type {\n",
       "        vertical-align: middle;\n",
       "    }\n",
       "\n",
       "    .dataframe tbody tr th {\n",
       "        vertical-align: top;\n",
       "    }\n",
       "\n",
       "    .dataframe thead th {\n",
       "        text-align: right;\n",
       "    }\n",
       "</style>\n",
       "<table border=\"1\" class=\"dataframe\">\n",
       "  <thead>\n",
       "    <tr style=\"text-align: right;\">\n",
       "      <th></th>\n",
       "      <th>product_id</th>\n",
       "      <th>product_category_name</th>\n",
       "      <th>product_name_lenght</th>\n",
       "      <th>product_description_lenght</th>\n",
       "      <th>product_photos_qty</th>\n",
       "      <th>product_weight_g</th>\n",
       "      <th>product_length_cm</th>\n",
       "      <th>product_height_cm</th>\n",
       "      <th>product_width_cm</th>\n",
       "    </tr>\n",
       "  </thead>\n",
       "  <tbody>\n",
       "    <tr>\n",
       "      <th>32946</th>\n",
       "      <td>a0b7d5a992ccda646f2d34e418fff5a0</td>\n",
       "      <td>moveis_decoracao</td>\n",
       "      <td>45.0</td>\n",
       "      <td>67.0</td>\n",
       "      <td>2.0</td>\n",
       "      <td>12300.0</td>\n",
       "      <td>40.0</td>\n",
       "      <td>40.0</td>\n",
       "      <td>40.0</td>\n",
       "    </tr>\n",
       "    <tr>\n",
       "      <th>32947</th>\n",
       "      <td>bf4538d88321d0fd4412a93c974510e6</td>\n",
       "      <td>construcao_ferramentas_iluminacao</td>\n",
       "      <td>41.0</td>\n",
       "      <td>971.0</td>\n",
       "      <td>1.0</td>\n",
       "      <td>1700.0</td>\n",
       "      <td>16.0</td>\n",
       "      <td>19.0</td>\n",
       "      <td>16.0</td>\n",
       "    </tr>\n",
       "    <tr>\n",
       "      <th>32948</th>\n",
       "      <td>9a7c6041fa9592d9d9ef6cfe62a71f8c</td>\n",
       "      <td>cama_mesa_banho</td>\n",
       "      <td>50.0</td>\n",
       "      <td>799.0</td>\n",
       "      <td>1.0</td>\n",
       "      <td>1400.0</td>\n",
       "      <td>27.0</td>\n",
       "      <td>7.0</td>\n",
       "      <td>27.0</td>\n",
       "    </tr>\n",
       "    <tr>\n",
       "      <th>32949</th>\n",
       "      <td>83808703fc0706a22e264b9d75f04a2e</td>\n",
       "      <td>informatica_acessorios</td>\n",
       "      <td>60.0</td>\n",
       "      <td>156.0</td>\n",
       "      <td>2.0</td>\n",
       "      <td>700.0</td>\n",
       "      <td>31.0</td>\n",
       "      <td>13.0</td>\n",
       "      <td>20.0</td>\n",
       "    </tr>\n",
       "    <tr>\n",
       "      <th>32950</th>\n",
       "      <td>106392145fca363410d287a815be6de4</td>\n",
       "      <td>cama_mesa_banho</td>\n",
       "      <td>58.0</td>\n",
       "      <td>309.0</td>\n",
       "      <td>1.0</td>\n",
       "      <td>2083.0</td>\n",
       "      <td>12.0</td>\n",
       "      <td>2.0</td>\n",
       "      <td>7.0</td>\n",
       "    </tr>\n",
       "  </tbody>\n",
       "</table>\n",
       "</div>"
      ],
      "text/plain": [
       "                             product_id              product_category_name  \\\n",
       "32946  a0b7d5a992ccda646f2d34e418fff5a0                   moveis_decoracao   \n",
       "32947  bf4538d88321d0fd4412a93c974510e6  construcao_ferramentas_iluminacao   \n",
       "32948  9a7c6041fa9592d9d9ef6cfe62a71f8c                    cama_mesa_banho   \n",
       "32949  83808703fc0706a22e264b9d75f04a2e             informatica_acessorios   \n",
       "32950  106392145fca363410d287a815be6de4                    cama_mesa_banho   \n",
       "\n",
       "       product_name_lenght  product_description_lenght  product_photos_qty  \\\n",
       "32946                 45.0                        67.0                 2.0   \n",
       "32947                 41.0                       971.0                 1.0   \n",
       "32948                 50.0                       799.0                 1.0   \n",
       "32949                 60.0                       156.0                 2.0   \n",
       "32950                 58.0                       309.0                 1.0   \n",
       "\n",
       "       product_weight_g  product_length_cm  product_height_cm  \\\n",
       "32946           12300.0               40.0               40.0   \n",
       "32947            1700.0               16.0               19.0   \n",
       "32948            1400.0               27.0                7.0   \n",
       "32949             700.0               31.0               13.0   \n",
       "32950            2083.0               12.0                2.0   \n",
       "\n",
       "       product_width_cm  \n",
       "32946              40.0  \n",
       "32947              16.0  \n",
       "32948              27.0  \n",
       "32949              20.0  \n",
       "32950               7.0  "
      ]
     },
     "execution_count": 15,
     "metadata": {},
     "output_type": "execute_result"
    }
   ],
   "source": [
    "df_products = pd.read_csv(path+'olist_products_dataset.csv')\n",
    "df_products.tail()"
   ]
  },
  {
   "cell_type": "markdown",
   "id": "9c6ac55c",
   "metadata": {},
   "source": [
    "We have 32951 observations. Now let us merge the three dataframes. Then, we will be getting only the necessary columns from each dataframe. The following columns will be chosen:\n",
    "\n",
    "* order_id\n",
    "* order_purchase_timestamp\n",
    "* price\n",
    "* freight_value\n",
    "* product_category_name\n",
    "* order_item_id"
   ]
  },
  {
   "cell_type": "code",
   "execution_count": 59,
   "id": "345cc5ef",
   "metadata": {},
   "outputs": [
    {
     "data": {
      "text/html": [
       "<div>\n",
       "<style scoped>\n",
       "    .dataframe tbody tr th:only-of-type {\n",
       "        vertical-align: middle;\n",
       "    }\n",
       "\n",
       "    .dataframe tbody tr th {\n",
       "        vertical-align: top;\n",
       "    }\n",
       "\n",
       "    .dataframe thead th {\n",
       "        text-align: right;\n",
       "    }\n",
       "</style>\n",
       "<table border=\"1\" class=\"dataframe\">\n",
       "  <thead>\n",
       "    <tr style=\"text-align: right;\">\n",
       "      <th></th>\n",
       "      <th>order_id</th>\n",
       "      <th>product_id</th>\n",
       "      <th>order_purchase_timestamp</th>\n",
       "      <th>price</th>\n",
       "      <th>freight_value</th>\n",
       "      <th>product_category_name</th>\n",
       "      <th>order_item_id</th>\n",
       "    </tr>\n",
       "  </thead>\n",
       "  <tbody>\n",
       "    <tr>\n",
       "      <th>112645</th>\n",
       "      <td>e8fd20068b9f7e6ec07068bb7537f781</td>\n",
       "      <td>0df37da38a30a713453b03053d60d3f7</td>\n",
       "      <td>2017-08-10 21:21:07</td>\n",
       "      <td>356.0</td>\n",
       "      <td>18.12</td>\n",
       "      <td>esporte_lazer</td>\n",
       "      <td>1</td>\n",
       "    </tr>\n",
       "    <tr>\n",
       "      <th>112646</th>\n",
       "      <td>e8fd20068b9f7e6ec07068bb7537f781</td>\n",
       "      <td>0df37da38a30a713453b03053d60d3f7</td>\n",
       "      <td>2017-08-10 21:21:07</td>\n",
       "      <td>356.0</td>\n",
       "      <td>18.12</td>\n",
       "      <td>esporte_lazer</td>\n",
       "      <td>2</td>\n",
       "    </tr>\n",
       "    <tr>\n",
       "      <th>112647</th>\n",
       "      <td>cfa78b997e329a5295b4ee6972c02979</td>\n",
       "      <td>3d2c44374ee42b3003a470f3e937a2ea</td>\n",
       "      <td>2017-12-20 09:52:41</td>\n",
       "      <td>55.9</td>\n",
       "      <td>15.14</td>\n",
       "      <td>instrumentos_musicais</td>\n",
       "      <td>1</td>\n",
       "    </tr>\n",
       "    <tr>\n",
       "      <th>112648</th>\n",
       "      <td>9c5dedf39a927c1b2549525ed64a053c</td>\n",
       "      <td>ac35486adb7b02598c182c2ff2e05254</td>\n",
       "      <td>2017-03-09 09:54:05</td>\n",
       "      <td>72.0</td>\n",
       "      <td>13.08</td>\n",
       "      <td>beleza_saude</td>\n",
       "      <td>1</td>\n",
       "    </tr>\n",
       "    <tr>\n",
       "      <th>112649</th>\n",
       "      <td>66dea50a8b16d9b4dee7af250b4be1a5</td>\n",
       "      <td>006619bbed68b000c8ba3f8725d5409e</td>\n",
       "      <td>2018-03-08 20:57:30</td>\n",
       "      <td>68.5</td>\n",
       "      <td>18.36</td>\n",
       "      <td>beleza_saude</td>\n",
       "      <td>1</td>\n",
       "    </tr>\n",
       "  </tbody>\n",
       "</table>\n",
       "</div>"
      ],
      "text/plain": [
       "                                order_id                        product_id  \\\n",
       "112645  e8fd20068b9f7e6ec07068bb7537f781  0df37da38a30a713453b03053d60d3f7   \n",
       "112646  e8fd20068b9f7e6ec07068bb7537f781  0df37da38a30a713453b03053d60d3f7   \n",
       "112647  cfa78b997e329a5295b4ee6972c02979  3d2c44374ee42b3003a470f3e937a2ea   \n",
       "112648  9c5dedf39a927c1b2549525ed64a053c  ac35486adb7b02598c182c2ff2e05254   \n",
       "112649  66dea50a8b16d9b4dee7af250b4be1a5  006619bbed68b000c8ba3f8725d5409e   \n",
       "\n",
       "       order_purchase_timestamp  price  freight_value  product_category_name  \\\n",
       "112645      2017-08-10 21:21:07  356.0          18.12          esporte_lazer   \n",
       "112646      2017-08-10 21:21:07  356.0          18.12          esporte_lazer   \n",
       "112647      2017-12-20 09:52:41   55.9          15.14  instrumentos_musicais   \n",
       "112648      2017-03-09 09:54:05   72.0          13.08           beleza_saude   \n",
       "112649      2018-03-08 20:57:30   68.5          18.36           beleza_saude   \n",
       "\n",
       "        order_item_id  \n",
       "112645              1  \n",
       "112646              2  \n",
       "112647              1  \n",
       "112648              1  \n",
       "112649              1  "
      ]
     },
     "execution_count": 59,
     "metadata": {},
     "output_type": "execute_result"
    }
   ],
   "source": [
    "df = df_orders.merge(df_itens, on=['order_id'])\n",
    "df = df.merge(df_products, on=['product_id'])\n",
    "df = df[['order_id', 'product_id', 'order_purchase_timestamp', 'price', 'freight_value', 'product_category_name', 'order_item_id']]\n",
    "df.tail()"
   ]
  },
  {
   "cell_type": "markdown",
   "id": "581ac722",
   "metadata": {},
   "source": [
    "As expected, we ended up with 5 columns and 112650 rows. Now let us check the data types."
   ]
  },
  {
   "cell_type": "code",
   "execution_count": 60,
   "id": "8d370d9a",
   "metadata": {},
   "outputs": [
    {
     "data": {
      "text/plain": [
       "order_id                     object\n",
       "product_id                   object\n",
       "order_purchase_timestamp     object\n",
       "price                       float64\n",
       "freight_value               float64\n",
       "product_category_name        object\n",
       "order_item_id                 int64\n",
       "dtype: object"
      ]
     },
     "execution_count": 60,
     "metadata": {},
     "output_type": "execute_result"
    }
   ],
   "source": [
    "df.dtypes"
   ]
  },
  {
   "cell_type": "markdown",
   "id": "5514a243",
   "metadata": {},
   "source": [
    "Let us create a date column using the order_purchase_timestamp column, since most of forecasting algorithms work with this data format. In this project we will not need the time of the purchase, so we are only getting the date. "
   ]
  },
  {
   "cell_type": "code",
   "execution_count": 61,
   "id": "a5441e20",
   "metadata": {},
   "outputs": [
    {
     "data": {
      "text/html": [
       "<div>\n",
       "<style scoped>\n",
       "    .dataframe tbody tr th:only-of-type {\n",
       "        vertical-align: middle;\n",
       "    }\n",
       "\n",
       "    .dataframe tbody tr th {\n",
       "        vertical-align: top;\n",
       "    }\n",
       "\n",
       "    .dataframe thead th {\n",
       "        text-align: right;\n",
       "    }\n",
       "</style>\n",
       "<table border=\"1\" class=\"dataframe\">\n",
       "  <thead>\n",
       "    <tr style=\"text-align: right;\">\n",
       "      <th></th>\n",
       "      <th>order_id</th>\n",
       "      <th>product_id</th>\n",
       "      <th>order_purchase_timestamp</th>\n",
       "      <th>price</th>\n",
       "      <th>freight_value</th>\n",
       "      <th>product_category_name</th>\n",
       "      <th>order_item_id</th>\n",
       "      <th>date</th>\n",
       "    </tr>\n",
       "  </thead>\n",
       "  <tbody>\n",
       "    <tr>\n",
       "      <th>112645</th>\n",
       "      <td>e8fd20068b9f7e6ec07068bb7537f781</td>\n",
       "      <td>0df37da38a30a713453b03053d60d3f7</td>\n",
       "      <td>2017-08-10 21:21:07</td>\n",
       "      <td>356.0</td>\n",
       "      <td>18.12</td>\n",
       "      <td>esporte_lazer</td>\n",
       "      <td>1</td>\n",
       "      <td>2017-08-10</td>\n",
       "    </tr>\n",
       "    <tr>\n",
       "      <th>112646</th>\n",
       "      <td>e8fd20068b9f7e6ec07068bb7537f781</td>\n",
       "      <td>0df37da38a30a713453b03053d60d3f7</td>\n",
       "      <td>2017-08-10 21:21:07</td>\n",
       "      <td>356.0</td>\n",
       "      <td>18.12</td>\n",
       "      <td>esporte_lazer</td>\n",
       "      <td>2</td>\n",
       "      <td>2017-08-10</td>\n",
       "    </tr>\n",
       "    <tr>\n",
       "      <th>112647</th>\n",
       "      <td>cfa78b997e329a5295b4ee6972c02979</td>\n",
       "      <td>3d2c44374ee42b3003a470f3e937a2ea</td>\n",
       "      <td>2017-12-20 09:52:41</td>\n",
       "      <td>55.9</td>\n",
       "      <td>15.14</td>\n",
       "      <td>instrumentos_musicais</td>\n",
       "      <td>1</td>\n",
       "      <td>2017-12-20</td>\n",
       "    </tr>\n",
       "    <tr>\n",
       "      <th>112648</th>\n",
       "      <td>9c5dedf39a927c1b2549525ed64a053c</td>\n",
       "      <td>ac35486adb7b02598c182c2ff2e05254</td>\n",
       "      <td>2017-03-09 09:54:05</td>\n",
       "      <td>72.0</td>\n",
       "      <td>13.08</td>\n",
       "      <td>beleza_saude</td>\n",
       "      <td>1</td>\n",
       "      <td>2017-03-09</td>\n",
       "    </tr>\n",
       "    <tr>\n",
       "      <th>112649</th>\n",
       "      <td>66dea50a8b16d9b4dee7af250b4be1a5</td>\n",
       "      <td>006619bbed68b000c8ba3f8725d5409e</td>\n",
       "      <td>2018-03-08 20:57:30</td>\n",
       "      <td>68.5</td>\n",
       "      <td>18.36</td>\n",
       "      <td>beleza_saude</td>\n",
       "      <td>1</td>\n",
       "      <td>2018-03-08</td>\n",
       "    </tr>\n",
       "  </tbody>\n",
       "</table>\n",
       "</div>"
      ],
      "text/plain": [
       "                                order_id                        product_id  \\\n",
       "112645  e8fd20068b9f7e6ec07068bb7537f781  0df37da38a30a713453b03053d60d3f7   \n",
       "112646  e8fd20068b9f7e6ec07068bb7537f781  0df37da38a30a713453b03053d60d3f7   \n",
       "112647  cfa78b997e329a5295b4ee6972c02979  3d2c44374ee42b3003a470f3e937a2ea   \n",
       "112648  9c5dedf39a927c1b2549525ed64a053c  ac35486adb7b02598c182c2ff2e05254   \n",
       "112649  66dea50a8b16d9b4dee7af250b4be1a5  006619bbed68b000c8ba3f8725d5409e   \n",
       "\n",
       "       order_purchase_timestamp  price  freight_value  product_category_name  \\\n",
       "112645      2017-08-10 21:21:07  356.0          18.12          esporte_lazer   \n",
       "112646      2017-08-10 21:21:07  356.0          18.12          esporte_lazer   \n",
       "112647      2017-12-20 09:52:41   55.9          15.14  instrumentos_musicais   \n",
       "112648      2017-03-09 09:54:05   72.0          13.08           beleza_saude   \n",
       "112649      2018-03-08 20:57:30   68.5          18.36           beleza_saude   \n",
       "\n",
       "        order_item_id       date  \n",
       "112645              1 2017-08-10  \n",
       "112646              2 2017-08-10  \n",
       "112647              1 2017-12-20  \n",
       "112648              1 2017-03-09  \n",
       "112649              1 2018-03-08  "
      ]
     },
     "execution_count": 61,
     "metadata": {},
     "output_type": "execute_result"
    }
   ],
   "source": [
    "df['date'] = pd.to_datetime(df['order_purchase_timestamp']).dt.normalize()\n",
    "df.tail()"
   ]
  },
  {
   "cell_type": "markdown",
   "id": "9dc32f0e",
   "metadata": {},
   "source": [
    "There are a few more steps in order to get our dataframe ready to the forecasting models required format, but let us pause here and take a deeper look into the data."
   ]
  },
  {
   "cell_type": "markdown",
   "id": "3723c1d8",
   "metadata": {},
   "source": [
    "## Exploratory Data Analysis\n",
    "\n",
    "In this part of the report, we are going to answer the following questions:\n",
    "\n",
    "* Is there a specific period where purchases are more likely?\n",
    "* Which category sells the most?\n",
    "* How many itens are bought per order?\n",
    "\n",
    "Let us start by comparing the volume of sales per month. This comparison can be done in a very straightforward way, since the dataset period ranges from 09/04/2016 to 09/03/2018. "
   ]
  },
  {
   "cell_type": "code",
   "execution_count": 62,
   "id": "bdff90cb",
   "metadata": {},
   "outputs": [
    {
     "data": {
      "image/png": "[encoded data removed]",
      "text/plain": [
       "<Figure size 1200x600 with 1 Axes>"
      ]
     },
     "metadata": {},
     "output_type": "display_data"
    }
   ],
   "source": [
    "df_grouped_month = df[['date', 'price']].copy()\n",
    "df_grouped_month['month'] = df_grouped_month['date'].dt.month\n",
    "fig, ax = plt.subplots(figsize=(8, 4), dpi=150)\n",
    "sns.barplot(data=df_grouped_month.groupby('month').count().reset_index(), x='month', y='date', ax=ax, color='#0077AA')\n",
    "ax.set_title(\"Sales per Month (Quantity)\")\n",
    "ax.set_ylabel('Sales')\n",
    "ax.set_xlabel('Month')\n",
    "plt.show()"
   ]
  },
  {
   "cell_type": "markdown",
   "id": "3b154c05",
   "metadata": {},
   "source": [
    "The top selling months in quantity were May and August, with a number around 12000 units. September was the worst selling month, with a number close to 5000 units. Now let us see the months performance in revenue."
   ]
  },
  {
   "cell_type": "code",
   "execution_count": 63,
   "id": "f9a86f9d",
   "metadata": {},
   "outputs": [
    {
     "data": {
      "image/png": "[encoded data removed]",
      "text/plain": [
       "<Figure size 1200x600 with 1 Axes>"
      ]
     },
     "metadata": {},
     "output_type": "display_data"
    }
   ],
   "source": [
    "df_grouped_month = df[['date', 'price']].copy()\n",
    "df_grouped_month['month'] = df_grouped_month['date'].dt.month\n",
    "fig, ax = plt.subplots(figsize=(8, 4), dpi=150)\n",
    "sns.barplot(data=df_grouped_month.groupby('month')['price'].sum().reset_index(), x='month', y='price', ax=ax, color='#0077AA')\n",
    "ax.set_title(\"Sales per Month (Revenue)\")\n",
    "ax.set_ylabel('Sales')\n",
    "ax.set_xlabel('Month')\n",
    "plt.show()"
   ]
  },
  {
   "cell_type": "markdown",
   "id": "ff66d9a3",
   "metadata": {},
   "source": [
    "The behavior is very similar, with the top selling month being May (revenue above 1.4 million) and the bottom selling month being September (revenue around 0.6 million). Now let us check the sales by category. First, we are going to see the total number of categories."
   ]
  },
  {
   "cell_type": "code",
   "execution_count": 64,
   "id": "273cc060",
   "metadata": {},
   "outputs": [
    {
     "name": "stdout",
     "output_type": "stream",
     "text": [
      "Number of categories:  73\n"
     ]
    }
   ],
   "source": [
    "print(\"Number of categories: \", df['product_category_name'].nunique())"
   ]
  },
  {
   "cell_type": "markdown",
   "id": "9171b32d",
   "metadata": {},
   "source": [
    "Since the number of categories is too high, it is not possible to use it in a more graphical way. Let us just check the category with most a least sales by quantity and revenue."
   ]
  },
  {
   "cell_type": "code",
   "execution_count": 65,
   "id": "4727a65a",
   "metadata": {},
   "outputs": [
    {
     "name": "stdout",
     "output_type": "stream",
     "text": [
      "Top selling category by quantity was cama_mesa_banho with 11115 units\n",
      "Bottom selling category by quantity was seguros_e_servicos with 2 units\n"
     ]
    }
   ],
   "source": [
    "df_grouped_category = df[['product_category_name', 'price']].copy()\n",
    "category_quantity_max = df_grouped_category.groupby('product_category_name').count().idxmax().values[0]\n",
    "quantity_max = df_grouped_category.groupby('product_category_name').count().max().values[0]\n",
    "category_quantity_min = df_grouped_category.groupby('product_category_name').count().idxmin().values[0]\n",
    "quantity_min = df_grouped_category.groupby('product_category_name').count().min().values[0]\n",
    "print(\"Top selling category by quantity was {} with {} units\".format(category_quantity_max, quantity_max))\n",
    "print(\"Bottom selling category by quantity was {} with {} units\".format(category_quantity_min, quantity_min))"
   ]
  },
  {
   "cell_type": "code",
   "execution_count": 66,
   "id": "5a684776",
   "metadata": {},
   "outputs": [
    {
     "name": "stdout",
     "output_type": "stream",
     "text": [
      "Top selling category by revenue was beleza_saude with 1258681.34 units\n",
      "Bottom selling category by revenue was seguros_e_servicos with 283.28999999999996 units\n"
     ]
    }
   ],
   "source": [
    "category_revenue_max = df_grouped_category.groupby('product_category_name').sum().idxmax().values[0]\n",
    "revenue_max = df_grouped_category.groupby('product_category_name').sum().max().values[0]\n",
    "category_revenue_min = df_grouped_category.groupby('product_category_name').sum().idxmin().values[0]\n",
    "revenue_min = df_grouped_category.groupby('product_category_name').sum().min().values[0]\n",
    "print(\"Top selling category by revenue was {} with {} units\".format(category_revenue_max, revenue_max))\n",
    "print(\"Bottom selling category by revenue was {} with {} units\".format(category_revenue_min, revenue_min))"
   ]
  },
  {
   "cell_type": "markdown",
   "id": "7605c1c5",
   "metadata": {},
   "source": [
    "Even though the category cama_mesa_banho sold the most units, those itens are not as expensive as the beleza_saude ones. The category seguros_e_servicos performed the worst in both scenarios. Now let us get some general information about the amount of itens per order and that will conclude our exploratory data analysis."
   ]
  },
  {
   "cell_type": "code",
   "execution_count": 71,
   "id": "6d671af3",
   "metadata": {},
   "outputs": [
    {
     "name": "stdout",
     "output_type": "stream",
     "text": [
      "Maximum number of itens in a single order:  21\n",
      "Average number of itens per order:  1.14\n"
     ]
    }
   ],
   "source": [
    "df_grouped_order = df[['order_id', 'order_item_id']].copy()\n",
    "max_quantity_order = df_grouped_order['order_item_id'].max()\n",
    "avg_quantity_order = df_grouped_order.groupby('order_id').count().mean().values[0]\n",
    "print(\"Maximum number of itens in a single order: \", max_quantity_order)\n",
    "print(\"Average number of itens per order: \", round(avg_quantity_order, 2))"
   ]
  },
  {
   "cell_type": "markdown",
   "id": "0b353e0e",
   "metadata": {},
   "source": [
    "## Baseline Model"
   ]
  }
 ],
 "metadata": {
  "kernelspec": {
   "display_name": "Python 3 (ipykernel)",
   "language": "python",
   "name": "python3"
  },
  "language_info": {
   "codemirror_mode": {
    "name": "ipython",
    "version": 3
   },
   "file_extension": ".py",
   "mimetype": "text/x-python",
   "name": "python",
   "nbconvert_exporter": "python",
   "pygments_lexer": "ipython3",
   "version": "3.9.13"
  }
 },
 "nbformat": 4,
 "nbformat_minor": 5
}
